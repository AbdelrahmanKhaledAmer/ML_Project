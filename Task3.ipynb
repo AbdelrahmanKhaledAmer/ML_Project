{
 "cells": [
  {
   "cell_type": "markdown",
   "metadata": {},
   "source": [
    "## Some context on the TfidVectorizer and text handing in sklearn\n",
    "\n",
    "* To represent a review to a neural network, each word has to be expressed as a number. \n",
    "\n",
    "* Each word in the review corpus is assigned a unique number. Assume the total number of unique words is feature_count. \n",
    "\n",
    "* Each review can then be represented as a vector of length feature_count. \n",
    "\n",
    "* Entries in this vector can be either 0 or 1, if the word is present in this review or absent respectively. \n",
    "\n",
    "* A more advanced approach will replace the binary numbers above with ratios that emphaise how rare ( and hence meanigful and representative ) the word is across all reviews. For example, a word like \"product\" will have little use for the neural network in determing whetehr this is a rating-1 or rating-5 review, as this particular word occurs in most reviews, both positive and negative ones. \n",
    "\n",
    "* Here we limit the number of feature_count to 40,000 to cut down the training time. \n",
    "\n",
    "more info available from \n",
    "http://scikit-learn.org/stable/tutorial/text_analytics/working_with_text_data.html\n",
    "http://scikit-learn.org/stable/modules/generated/sklearn.feature_extraction.text.TfidfVectorizer.html"
   ]
  },
  {
   "cell_type": "markdown",
   "metadata": {},
   "source": [
    "# Function removes unnecessary html tags fro the reviews"
   ]
  },
  {
   "cell_type": "code",
   "execution_count": 1,
   "metadata": {},
   "outputs": [],
   "source": [
    "#function that removes html tags from txt\n",
    "def remove_html_tags(x):\n",
    "    from bs4 import BeautifulSoup\n",
    "    return BeautifulSoup(x).get_text()"
   ]
  },
  {
   "cell_type": "markdown",
   "metadata": {},
   "source": [
    " ## Load the dataset \n",
    " ### Inspect datset \n",
    "1- Remove unnecesary tags\n",
    "\n",
    "2- Load 2500 entires for each class into the dataset"
   ]
  },
  {
   "cell_type": "code",
   "execution_count": 64,
   "metadata": {},
   "outputs": [
    {
     "name": "stdout",
     "output_type": "stream",
     "text": [
      "original Distribution\n",
      " 5    35580\n",
      "4    16536\n",
      "3     6789\n",
      "2     3010\n",
      "1     2791\n",
      "Name: overall, dtype: int64\n",
      "new Distribution\n",
      " 5    2500\n",
      "4    2500\n",
      "3    2500\n",
      "2    2500\n",
      "1    2500\n",
      "Name: overall, dtype: int64\n"
     ]
    },
    {
     "data": {
      "text/plain": [
       "(12500, 9)"
      ]
     },
     "execution_count": 64,
     "metadata": {},
     "output_type": "execute_result"
    }
   ],
   "source": [
    "import pandas as pd\n",
    "music = pd.read_json(\"./Digital_Music_5.json\",lines = True,)\n",
    "#TODO I can add the summary to the movies data\n",
    "\n",
    "# the number of reviews present in each class\n",
    "print(\"original Distribution\\n\", music['overall'].value_counts())\n",
    "\n",
    "#apply the function to the dataset\n",
    "music[\"reviewText\"] = music[\"reviewText\"].apply(remove_html_tags)\n",
    "#shuffle the data\n",
    "music.sample(frac = 1)\n",
    "\n",
    "#select 2500 from each class\n",
    "data = pd.DataFrame()\n",
    "max_num = 2500\n",
    "for i in range(1,6):\n",
    "    d_i = music.loc[music[\"overall\"] == i][:max_num]\n",
    "    data = pd.concat([data,d_i[:max_num]])\n",
    "print(\"new Distribution\\n\", data['overall'].value_counts())\n",
    "data.shape"
   ]
  },
  {
   "cell_type": "markdown",
   "metadata": {},
   "source": [
    "# Split the data into training and testing\n",
    "Split ratio is 0.2 for testing and the rest for training.\n",
    "\n",
    "Validation is done in the classifier itself.\n",
    "\n",
    "# Convert reviews to vectors\n",
    "1- Remove words which does not contribute to te meaning.\n",
    "\n",
    "2- Use only necessary features (review, rating).\n",
    "##### Transformation is done after spliting the data since the test dataset should not contribute by any mean to the training process."
   ]
  },
  {
   "cell_type": "code",
   "execution_count": 56,
   "metadata": {},
   "outputs": [
    {
     "name": "stdout",
     "output_type": "stream",
     "text": [
      "(12500,)\n",
      "<class 'numpy.ndarray'> <class 'numpy.ndarray'>\n",
      "(10000,) (2500,) (10000,) (2500,)\n",
      "2    2038\n",
      "4    2010\n",
      "5    2002\n",
      "1    1978\n",
      "3    1972\n",
      "Name: 0, dtype: int64\n",
      "test data transform (2500, 42514)\n",
      "training data transform (10000, 42514)\n"
     ]
    }
   ],
   "source": [
    "#imports\n",
    "from sklearn.feature_extraction.text import TfidfTransformer\n",
    "from sklearn.feature_extraction.text import TfidfVectorizer\n",
    "import nltk\n",
    "from nltk.corpus import stopwords\n",
    "from sklearn.model_selection import train_test_split\n",
    "import string\n",
    "stopWords = set(stopwords.words('english'))#+list(string.punctuation))\n",
    "\n",
    "music_crop = data[\"reviewText\"].values\n",
    "print(music_crop.shape)\n",
    "labels = data[\"overall\"].values\n",
    "print(type(music_crop),type(labels))\n",
    "X_train, X_test, y_train, y_test = train_test_split(music_crop,labels,test_size =0.2)\n",
    "print(X_train.shape,X_test.shape,y_train.shape,y_test.shape)\n",
    "#my own validation split not useful right now\n",
    "# X_train, X_Validation, y_train, y_Validation = train_test_split(X_train,y_train)\n",
    "\n",
    "df2 = pd.DataFrame(y_train)\n",
    "print(df2[0].value_counts())\n",
    "\"\"\"\n",
    "class: num instances in training\n",
    "4    2050\n",
    "3    1997\n",
    "2    1994\n",
    "1    1988\n",
    "5    1971\n",
    "\"\"\"\n",
    "\n",
    "# You need to define X_train and X_test\n",
    "\n",
    "tfidf_vectorizer = TfidfVectorizer(max_features=50000,stop_words = stopWords)\n",
    "X_train_transformed = tfidf_vectorizer.fit_transform(X_train)\n",
    "X_test_transformed = tfidf_vectorizer.transform(X_test)\n",
    "print(\"test data transform\",X_test_transformed.shape)\n",
    "print(\"training data transform\",X_train_transformed.shape)\n",
    "# print(tfidf_vectorizer.vocabulary_)"
   ]
  },
  {
   "cell_type": "markdown",
   "metadata": {},
   "source": [
    "# Training the classifier\n",
    "8- Since the problem is a multi-classification problem,  the classifier autmatically uses the **SOFTMAX** activation function for the output layer."
   ]
  },
  {
   "cell_type": "code",
   "execution_count": 63,
   "metadata": {},
   "outputs": [
    {
     "name": "stdout",
     "output_type": "stream",
     "text": [
      "Iteration 1, loss = 1.42405311\n",
      "Validation score: 0.582000\n",
      "Iteration 2, loss = 0.80131892\n",
      "Validation score: 0.616000\n",
      "Iteration 3, loss = 0.40351993\n",
      "Validation score: 0.621000\n",
      "Iteration 4, loss = 0.19982394\n",
      "Validation score: 0.600000\n",
      "Iteration 5, loss = 0.10436054\n",
      "Validation score: 0.598000\n",
      "Iteration 6, loss = 0.06139902\n",
      "Validation score: 0.590000\n",
      "Iteration 7, loss = 0.04021231\n",
      "Validation score: 0.592000\n",
      "Iteration 8, loss = 0.02860767\n",
      "Validation score: 0.591000\n",
      "Iteration 9, loss = 0.02196484\n",
      "Validation score: 0.586000\n",
      "Iteration 10, loss = 0.01758053\n",
      "Validation score: 0.581000\n"
     ]
    },
    {
     "name": "stderr",
     "output_type": "stream",
     "text": [
      "C:\\Users\\moham\\Miniconda3\\envs\\tensorflow\\lib\\site-packages\\sklearn\\neural_network\\multilayer_perceptron.py:562: ConvergenceWarning: Stochastic Optimizer: Maximum iterations (10) reached and the optimization hasn't converged yet.\n",
      "  % self.max_iter, ConvergenceWarning)\n"
     ]
    },
    {
     "data": {
      "text/plain": [
       "MLPClassifier(activation='relu', alpha=0.0001, batch_size='auto', beta_1=0.9,\n",
       "       beta_2=0.999, early_stopping=True, epsilon=1e-08,\n",
       "       hidden_layer_sizes=512, learning_rate='constant',\n",
       "       learning_rate_init=0.001, max_iter=10, momentum=0.9,\n",
       "       n_iter_no_change=10, nesterovs_momentum=True, power_t=0.5,\n",
       "       random_state=None, shuffle=True, solver='adam', tol=0.0001,\n",
       "       validation_fraction=0.1, verbose=True, warm_start=False)"
      ]
     },
     "execution_count": 63,
     "metadata": {},
     "output_type": "execute_result"
    }
   ],
   "source": [
    "#imports\n",
    "from sklearn.neural_network import MLPClassifier\n",
    "#lbfgs\n",
    "\"\"\"\n",
    "# mlp = MLPClassifier(hidden_layer_sizes=(512,1024,512), activation= \"relu\", solver=\"adam\",learning_rate_init=0.001, max_iter=200, shuffle=True,validation_fraction=0.1, early_stopping=True, verbose=True) 0.6 percent model\n",
    "\n",
    "mlp = MLPClassifier(hidden_layer_sizes=(128), activation= \"relu\", solver=\"adam\",learning_rate_init=0.001, max_iter=200, shuffle=True,validation_fraction=0.1, early_stopping=True, verbose=True) 0.6 percent model\n",
    "\n",
    "\n",
    "\"\"\"\n",
    "mlp = MLPClassifier(hidden_layer_sizes=(512), activation= \"relu\", solver=\"adam\",learning_rate_init=0.001, max_iter=10, shuffle=True,validation_fraction=0.1, early_stopping=True, verbose=True)\n",
    "\n",
    "\n",
    "mlp.fit(X_train_transformed,y_train)"
   ]
  },
  {
   "cell_type": "markdown",
   "metadata": {},
   "source": [
    "# Accuracy on train and test data"
   ]
  },
  {
   "cell_type": "code",
   "execution_count": 61,
   "metadata": {},
   "outputs": [
    {
     "name": "stdout",
     "output_type": "stream",
     "text": [
      "0.8762\n",
      "0.6136\n"
     ]
    }
   ],
   "source": [
    "\n",
    "from sklearn.metrics import accuracy_score,confusion_matrix\n",
    "print(accuracy_score(mlp.predict(X_train_transformed),y_train))\n",
    "print(accuracy_score(mlp.predict(X_test_transformed),y_test))\n",
    "\n",
    "y_pred = mlp.predict(X_test_transformed)\n",
    "class_names = [1,2,3,4,5]\n",
    "\n",
    "\n",
    "# print(accuracy_score(mlp.predict(X_test_transformed),y_test))"
   ]
  },
  {
   "cell_type": "markdown",
   "metadata": {},
   "source": [
    "# Confusion Matrix"
   ]
  },
  {
   "cell_type": "code",
   "execution_count": 62,
   "metadata": {},
   "outputs": [
    {
     "name": "stdout",
     "output_type": "stream",
     "text": [
      "Normalized confusion matrix\n",
      "[[0.66 0.25 0.05 0.02 0.02]\n",
      " [0.22 0.5  0.19 0.06 0.03]\n",
      " [0.04 0.19 0.47 0.24 0.07]\n",
      " [0.02 0.04 0.16 0.64 0.13]\n",
      " [0.02 0.02 0.04 0.13 0.79]]\n"
     ]
    },
    {
     "data": {
      "image/png": "[encoded data removed]",
      "text/plain": [
       "<Figure size 432x288 with 2 Axes>"
      ]
     },
     "metadata": {},
     "output_type": "display_data"
    }
   ],
   "source": [
    "\n",
    "import matplotlib.pyplot as plt\n",
    "import itertools\n",
    "import numpy as np\n",
    "\n",
    "def plot_confusion_matrix(cm, classes,\n",
    "                          normalize=False,\n",
    "                          title='Confusion matrix',\n",
    "                          cmap=plt.cm.Blues):\n",
    "    \"\"\"\n",
    "    This function prints and plots the confusion matrix.\n",
    "    Normalization can be applied by setting `normalize=True`.\n",
    "    \"\"\"\n",
    "    if normalize:\n",
    "        cm = cm.astype('float') / cm.sum(axis=1)[:, np.newaxis]\n",
    "        print(\"Normalized confusion matrix\")\n",
    "    else:\n",
    "        print('Confusion matrix, without normalization')\n",
    "\n",
    "    print(cm)\n",
    "\n",
    "    plt.imshow(cm, interpolation='nearest', cmap=cmap)\n",
    "    plt.title(title)\n",
    "    plt.colorbar()\n",
    "    tick_marks = np.arange(len(classes))\n",
    "    plt.xticks(tick_marks, classes, rotation=45)\n",
    "    plt.yticks(tick_marks, classes)\n",
    "\n",
    "    fmt = '.2f' if normalize else 'd'\n",
    "    thresh = cm.max() / 2.\n",
    "    for i, j in itertools.product(range(cm.shape[0]), range(cm.shape[1])):\n",
    "        plt.text(j, i, format(cm[i, j], fmt),\n",
    "                 horizontalalignment=\"center\",\n",
    "                 color=\"white\" if cm[i, j] > thresh else \"black\")\n",
    "\n",
    "    plt.ylabel('True label')\n",
    "    plt.xlabel('Predicted label')\n",
    "    plt.tight_layout()\n",
    "\n",
    "\n",
    "# Compute confusion matrix\n",
    "cnf_matrix = confusion_matrix(y_test,y_pred)\n",
    "np.set_printoptions(precision=2)\n",
    "\n",
    "# Plot normalized confusion matrix\n",
    "plt.figure()\n",
    "plot_confusion_matrix(cnf_matrix, classes=class_names, normalize=True,\n",
    "                      title='Normalized confusion matrix')\n",
    "\n",
    "plt.show()"
   ]
  },
  {
   "cell_type": "markdown",
   "metadata": {},
   "source": []
  },
  {
   "cell_type": "code",
   "execution_count": null,
   "metadata": {},
   "outputs": [],
   "source": []
  }
 ],
 "metadata": {
  "kernelspec": {
   "display_name": "Python 3",
   "language": "python",
   "name": "python3"
  },
  "language_info": {
   "codemirror_mode": {
    "name": "ipython",
    "version": 3
   },
   "file_extension": ".py",
   "mimetype": "text/x-python",
   "name": "python",
   "nbconvert_exporter": "python",
   "pygments_lexer": "ipython3",
   "version": "3.6.6"
  }
 },
 "nbformat": 4,
 "nbformat_minor": 1
}
