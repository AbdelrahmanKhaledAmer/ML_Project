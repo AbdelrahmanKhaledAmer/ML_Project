{
 "cells": [
  {
   "cell_type": "markdown",
   "metadata": {},
   "source": [
    "# Function to remove unnecessary html tags from the reviews"
   ]
  },
  {
   "cell_type": "code",
   "execution_count": 10,
   "metadata": {},
   "outputs": [],
   "source": [
    "#function that removes html tags from txt\n",
    "def remove_html_tags(x):\n",
    "    from bs4 import BeautifulSoup\n",
    "    return BeautifulSoup(x).get_text()"
   ]
  },
  {
   "cell_type": "markdown",
   "metadata": {},
   "source": [
    " ## Load the dataset \n",
    " ### Inspect datset \n",
    "1- Remove unnecesary tags\n",
    "\n",
    "2- Load 2500 entires for each class into the dataset"
   ]
  },
  {
   "cell_type": "code",
   "execution_count": 11,
   "metadata": {},
   "outputs": [],
   "source": [
    "import pandas as pd\n",
    "music = pd.read_json(\"./Digital_Music_5.json\",lines = True,)\n",
    "#TODO I can add the summary to the movies data\n",
    "\n",
    "\n",
    "#apply the function to the dataset\n",
    "music[\"reviewText\"] = music[\"reviewText\"].apply(remove_html_tags)\n",
    "#shuffle the data\n",
    "music.sample(frac = 1)\n",
    "\n",
    "#no of classes to be classified\n",
    "class_names = [1,2,3,4,5]"
   ]
  },
  {
   "cell_type": "code",
   "execution_count": 12,
   "metadata": {},
   "outputs": [
    {
     "name": "stdout",
     "output_type": "stream",
     "text": [
      "original Distribution\n",
      " 5    35580\n",
      "4    16536\n",
      "3     6789\n",
      "2     3010\n",
      "1     2791\n",
      "Name: overall, dtype: int64\n",
      "new Distribution\n",
      " 5    2500\n",
      "4    2500\n",
      "3    2500\n",
      "2    2500\n",
      "1    2500\n",
      "Name: overall, dtype: int64\n"
     ]
    },
    {
     "data": {
      "text/plain": [
       "(12500, 9)"
      ]
     },
     "execution_count": 12,
     "metadata": {},
     "output_type": "execute_result"
    }
   ],
   "source": [
    "#select 2500 from each class\n",
    "data = pd.DataFrame()\n",
    "# the number of reviews present in each class\n",
    "print(\"original Distribution\\n\", music['overall'].value_counts())\n",
    "\n",
    "max_num = 2500\n",
    "for i in range(1,6):\n",
    "    d_i = music.loc[music[\"overall\"] == i][:max_num]\n",
    "    data = pd.concat([data,d_i[:max_num]])\n",
    "print(\"new Distribution\\n\", data['overall'].value_counts())\n",
    "data.shape"
   ]
  },
  {
   "cell_type": "markdown",
   "metadata": {},
   "source": [
    "# Split the data into training and testing\n",
    "Split ratio is 0.2 for testing and the rest for training.\n",
    "\n",
    "Validation is done in the classifier itself.\n",
    "\n",
    "# Convert reviews to vectors\n",
    "1- Remove words which does not contribute to te meaning.\n",
    "\n",
    "2- Use only necessary features (review, rating).\n",
    "##### Transformation is done after spliting the data since the test dataset should not contribute by any mean to the training process."
   ]
  },
  {
   "cell_type": "code",
   "execution_count": 13,
   "metadata": {},
   "outputs": [
    {
     "name": "stdout",
     "output_type": "stream",
     "text": [
      "(12500,)\n",
      "<class 'numpy.ndarray'> <class 'numpy.ndarray'>\n",
      "(10000,) (2500,) (10000,) (2500,)\n",
      "no of instances of each class:\n",
      " 2    2013\n",
      "4    2006\n",
      "1    1997\n",
      "3    1993\n",
      "5    1991\n",
      "Name: 0, dtype: int64\n",
      "\n",
      "test data transform (2500, 40000)\n",
      "training data transform (10000, 40000)\n"
     ]
    }
   ],
   "source": [
    "#imports\n",
    "from sklearn.feature_extraction.text import TfidfTransformer\n",
    "from sklearn.feature_extraction.text import TfidfVectorizer\n",
    "import nltk\n",
    "from nltk.corpus import stopwords\n",
    "from sklearn.model_selection import train_test_split\n",
    "import string\n",
    "stopWords = set(stopwords.words('english'))#+list(string.punctuation))\n",
    "\n",
    "#use only the reviews\n",
    "music_crop = data[\"reviewText\"].values\n",
    "print(music_crop.shape)\n",
    "labels = data[\"overall\"].values\n",
    "print(type(music_crop),type(labels))\n",
    "X_train, X_test, y_train, y_test = train_test_split(music_crop,labels,test_size =0.2)\n",
    "print(X_train.shape,X_test.shape,y_train.shape,y_test.shape)\n",
    "\n",
    "df2 = pd.DataFrame(y_train)\n",
    "print(\"no of instances of each class:\\n\",df2[0].value_counts())\n",
    "\n",
    "tfidf_vectorizer = TfidfVectorizer(max_features=40000,stop_words = stopWords)\n",
    "X_train_transformed = tfidf_vectorizer.fit_transform(X_train)\n",
    "X_test_transformed = tfidf_vectorizer.transform(X_test)\n",
    "print(\"\\ntest data transform\",X_test_transformed.shape)\n",
    "print(\"training data transform\",X_train_transformed.shape)\n",
    "# print(tfidf_vectorizer.vocabulary_)"
   ]
  },
  {
   "cell_type": "markdown",
   "metadata": {},
   "source": [
    "# Training the classifier\n",
    "\n",
    "* Answer to questions:\n",
    "- Since the problem is a multi-classification problem:\n",
    "\n",
    "5- we use an evaluation metric which shows the precentage of correcteness (the precision and recall for example), in this case, we can use both acuracy or f1 score.\n",
    "we decided to use f1 score\n",
    "\n",
    "6- the chosen classifiers alongside their corresponding scores are shown in the cell below \n",
    "\n",
    "8- the classifier autmatically uses the **SOFTMAX** activation function for the output layer. Sklearn determines this function according to the prediction (binary (sigmoid), multi class (Softmax), regression output (identity) )\n"
   ]
  },
  {
   "cell_type": "code",
   "execution_count": 19,
   "metadata": {},
   "outputs": [
    {
     "name": "stdout",
     "output_type": "stream",
     "text": [
      "Iteration 1, loss = 1.52778298\n",
      "Validation score: 0.539000\n",
      "Iteration 2, loss = 1.15673843\n",
      "Validation score: 0.600000\n",
      "Iteration 3, loss = 0.80435510\n",
      "Validation score: 0.624000\n",
      "Iteration 4, loss = 0.54970713\n",
      "Validation score: 0.620000\n",
      "Iteration 5, loss = 0.37552064\n",
      "Validation score: 0.614000\n",
      "Iteration 6, loss = 0.25889574\n",
      "Validation score: 0.614000\n",
      "Iteration 7, loss = 0.18260413\n",
      "Validation score: 0.608000\n",
      "Iteration 8, loss = 0.13233788\n",
      "Validation score: 0.603000\n",
      "Iteration 9, loss = 0.09852736\n",
      "Validation score: 0.599000\n",
      "Iteration 10, loss = 0.07555680\n",
      "Validation score: 0.594000\n",
      "Iteration 11, loss = 0.05946538\n",
      "Validation score: 0.589000\n",
      "Iteration 12, loss = 0.04804872\n",
      "Validation score: 0.588000\n",
      "Iteration 13, loss = 0.03967447\n",
      "Validation score: 0.595000\n",
      "Iteration 14, loss = 0.03332876\n",
      "Validation score: 0.593000\n",
      "Validation score did not improve more than tol=0.000100 for 10 consecutive epochs. Stopping.\n"
     ]
    },
    {
     "data": {
      "text/plain": [
       "MLPClassifier(activation='relu', alpha=0.0001, batch_size='auto', beta_1=0.9,\n",
       "       beta_2=0.999, early_stopping=True, epsilon=1e-08,\n",
       "       hidden_layer_sizes=128, learning_rate='constant',\n",
       "       learning_rate_init=0.001, max_iter=200, momentum=0.9,\n",
       "       n_iter_no_change=10, nesterovs_momentum=True, power_t=0.5,\n",
       "       random_state=None, shuffle=True, solver='adam', tol=0.0001,\n",
       "       validation_fraction=0.1, verbose=True, warm_start=False)"
      ]
     },
     "execution_count": 19,
     "metadata": {},
     "output_type": "execute_result"
    }
   ],
   "source": [
    "#imports\n",
    "from sklearn.neural_network import MLPClassifier\n",
    "#lbfgs\n",
    "\n",
    "#classifiers test alongside there \n",
    "\n",
    "# mlp = MLPClassifier(hidden_layer_sizes=(512,1024,512), activation= \"relu\", solver=\"adam\",learning_rate_init=0.001, max_iter=200, shuffle=True,validation_fraction=0.1, early_stopping=True, verbose=True) # validation score = 0.55\n",
    "\n",
    "mlp = MLPClassifier(hidden_layer_sizes=(128), activation= \"relu\", solver=\"adam\",learning_rate_init=0.001, max_iter=200, shuffle=True,validation_fraction=0.1, early_stopping=True, verbose=True) #validation score = 0.6 \n",
    "\n",
    "\n",
    "#mlp = MLPClassifier(hidden_layer_sizes=(128,256), activation= \"relu\", solver=\"adam\",learning_rate_init=0.001, max_iter=20, shuffle=True,validation_fraction=0.1, early_stopping=True, verbose=True)  #validation score = 0.578\n",
    "\n",
    "\n",
    "mlp.fit(X_train_transformed,y_train)"
   ]
  },
  {
   "cell_type": "markdown",
   "metadata": {},
   "source": [
    "# Accuracy on train and test data"
   ]
  },
  {
   "cell_type": "code",
   "execution_count": 22,
   "metadata": {},
   "outputs": [
    {
     "name": "stdout",
     "output_type": "stream",
     "text": [
      "0.8715\n",
      "0.608\n"
     ]
    }
   ],
   "source": [
    "\n",
    "from sklearn.metrics import accuracy_score,confusion_matrix,f1_score\n",
    "avr = \"micro\"\n",
    "print(f1_score(mlp.predict(X_train_transformed),y_train,average=avr))\n",
    "print(f1_score(mlp.predict(X_test_transformed),y_test,average=avr))\n",
    "\n",
    "y_pred = mlp.predict(X_test_transformed)\n",
    "\n",
    "# print(accuracy_score(mlp.predict(X_test_transformed),y_test))"
   ]
  },
  {
   "cell_type": "markdown",
   "metadata": {},
   "source": [
    "# Confusion Matrix\n",
    "we note alot of miss classification between classes 1,2 and classes 3,4 \n",
    "the network is not able to distinguish between these classes clearly\n"
   ]
  },
  {
   "cell_type": "code",
   "execution_count": 23,
   "metadata": {},
   "outputs": [
    {
     "name": "stdout",
     "output_type": "stream",
     "text": [
      "Normalized confusion matrix\n",
      "[[0.64 0.29 0.02 0.02 0.03]\n",
      " [0.17 0.57 0.14 0.06 0.05]\n",
      " [0.03 0.23 0.4  0.25 0.08]\n",
      " [0.02 0.07 0.08 0.61 0.22]\n",
      " [0.03 0.03 0.02 0.12 0.82]]\n"
     ]
    },
    {
     "data": {
      "image/png": "[encoded data removed]",
      "text/plain": [
       "<Figure size 432x288 with 2 Axes>"
      ]
     },
     "metadata": {},
     "output_type": "display_data"
    }
   ],
   "source": [
    "\n",
    "import matplotlib.pyplot as plt\n",
    "import itertools\n",
    "import numpy as np\n",
    "\n",
    "def plot_confusion_matrix(cm, classes,\n",
    "                          normalize=False,\n",
    "                          title='Confusion matrix',\n",
    "                          cmap=plt.cm.Blues):\n",
    "    \"\"\"\n",
    "    This function prints and plots the confusion matrix.\n",
    "    Normalization can be applied by setting `normalize=True`.\n",
    "    \"\"\"\n",
    "    if normalize:\n",
    "        cm = cm.astype('float') / cm.sum(axis=1)[:, np.newaxis]\n",
    "        print(\"Normalized confusion matrix\")\n",
    "    else:\n",
    "        print('Confusion matrix, without normalization')\n",
    "\n",
    "    print(cm)\n",
    "\n",
    "    plt.imshow(cm, interpolation='nearest', cmap=cmap)\n",
    "    plt.title(title)\n",
    "    plt.colorbar()\n",
    "    tick_marks = np.arange(len(classes))\n",
    "    plt.xticks(tick_marks, classes, rotation=45)\n",
    "    plt.yticks(tick_marks, classes)\n",
    "\n",
    "    fmt = '.2f' if normalize else 'd'\n",
    "    thresh = cm.max() / 2.\n",
    "    for i, j in itertools.product(range(cm.shape[0]), range(cm.shape[1])):\n",
    "        plt.text(j, i, format(cm[i, j], fmt),\n",
    "                 horizontalalignment=\"center\",\n",
    "                 color=\"white\" if cm[i, j] > thresh else \"black\")\n",
    "\n",
    "    plt.ylabel('True label')\n",
    "    plt.xlabel('Predicted label')\n",
    "    plt.tight_layout()\n",
    "\n",
    "\n",
    "# Compute confusion matrix\n",
    "cnf_matrix = confusion_matrix(y_test,y_pred)\n",
    "np.set_printoptions(precision=2)\n",
    "\n",
    "# Plot normalized confusion matrix\n",
    "plt.figure()\n",
    "plot_confusion_matrix(cnf_matrix, classes=class_names, normalize=True,\n",
    "                      title='Normalized confusion matrix')\n",
    "\n",
    "plt.show()"
   ]
  },
  {
   "cell_type": "markdown",
   "metadata": {},
   "source": [
    "## Bonus (merge similar classes to improve classification accuracy)\n",
    "##### Print predicted and actual targets for some instances\n",
    "##### Describe how the network fails, causing the low test and validation scores.\n",
    "- The network clearly overfits the training data, the error rate on the training data is very low which means that the network memorizes the shape of the training data without the ability to generalize it to the validation or the test datasets.\n",
    "\n",
    "\n",
    "##### modifications to the network\n",
    "- Looking at the confusion matrix we find that classes 1,2 and classes 3,4 are misclassified about **25%** of the time.\n",
    "- The idea is to merge these classes and train the network again using the same procedure.\n",
    "- The cell below represents the required changes to the dataset.\n",
    "- Rerun the code from the second cell in the notebook will generate better fscore.\n",
    "- The test score increased by more than 18% => 0.786\n",
    "- To train the modified model run first three code cells then run the cell below, afterwards you can proceed with the ordinary cell order to abtain an average f1score = 0.786."
   ]
  },
  {
   "cell_type": "code",
   "execution_count": 25,
   "metadata": {},
   "outputs": [
    {
     "name": "stdout",
     "output_type": "stream",
     "text": [
      "[2 4 2 2 1 2 2 2 2 4]\n",
      "[2 4 2 2 2 2 2 2 2 3]\n"
     ]
    }
   ],
   "source": [
    "#sample of the predictions vs the target values\n",
    "print(mlp.predict(X_test_transformed)[:10])\n",
    "print(y_test[:10])"
   ]
  },
  {
   "cell_type": "code",
   "execution_count": null,
   "metadata": {},
   "outputs": [],
   "source": [
    "def merge_classes(x):\n",
    "    if x ==1 or x == 2:\n",
    "        return 1\n",
    "    if x == 3 or x == 4:\n",
    "        return 2\n",
    "    else:\n",
    "        return 3\n",
    "\n",
    "data[\"overall\"] = data[\"overall\"].apply(merge_classes)\n",
    "\n",
    "class_names = [1,2,3]"
   ]
  },
  {
   "cell_type": "code",
   "execution_count": null,
   "metadata": {},
   "outputs": [],
   "source": []
  }
 ],
 "metadata": {
  "kernelspec": {
   "display_name": "Python 3",
   "language": "python",
   "name": "python3"
  },
  "language_info": {
   "codemirror_mode": {
    "name": "ipython",
    "version": 3
   },
   "file_extension": ".py",
   "mimetype": "text/x-python",
   "name": "python",
   "nbconvert_exporter": "python",
   "pygments_lexer": "ipython3",
   "version": "3.6.6"
  }
 },
 "nbformat": 4,
 "nbformat_minor": 1
}
