{
 "cells": [
  {
   "cell_type": "markdown",
   "metadata": {},
   "source": [
    "# Machine Learning: Project 2\n",
    "## Task 2"
   ]
  },
  {
   "cell_type": "markdown",
   "metadata": {},
   "source": [
    "First, the needed imports.\n",
    "1. Pandas for reading the dataset\n",
    "2. Numpy for some light vector operations\n",
    "3. Sklearn:\n",
    "    1. svm for the SVC module\n",
    "    2. pca for dimentionality reduction based on feature covariance\n",
    "4. Matplotlib for visualization"
   ]
  },
  {
   "cell_type": "code",
   "execution_count": 6,
   "metadata": {},
   "outputs": [],
   "source": [
    "import pandas as pd\n",
    "import numpy as np\n",
    "import matplotlib.pyplot as plt\n",
    "from sklearn import svm\n",
    "from sklearn.decomposition import PCA\n",
    "from sklearn.model_selection import GridSearchCV\n",
    "from sklearn.svm import SVC"
   ]
  },
  {
   "cell_type": "markdown",
   "metadata": {},
   "source": [
    "Read the datasets"
   ]
  },
  {
   "cell_type": "code",
   "execution_count": 7,
   "metadata": {},
   "outputs": [],
   "source": [
    "X_train = pd.read_csv(\"./datasets/task2/14cancer_xtrain.csv\", header=None)\n",
    "Y_train = pd.read_csv(\"./datasets/task2/14cancer_ytrain.csv\", header=None)\n",
    "\n",
    "X_test = pd.read_csv(\"./datasets/task2/14cancer_xtest.csv\", header=None)\n",
    "Y_test = pd.read_csv(\"./datasets/task2/14cancer_ytest.csv\", header=None)"
   ]
  },
  {
   "cell_type": "markdown",
   "metadata": {},
   "source": [
    "The datasets are transposed, so transpose them back!"
   ]
  },
  {
   "cell_type": "code",
   "execution_count": 8,
   "metadata": {},
   "outputs": [],
   "source": [
    "X_train = X_train.transpose()\n",
    "Y_train = np.ravel(Y_train.transpose())\n",
    "\n",
    "X_test = X_test.transpose()\n",
    "Y_test = np.ravel(Y_test.transpose())"
   ]
  },
  {
   "cell_type": "markdown",
   "metadata": {},
   "source": [
    "Get the mean and standard deviation of the sets and normalize"
   ]
  },
  {
   "cell_type": "code",
   "execution_count": 9,
   "metadata": {},
   "outputs": [],
   "source": [
    "X = pd.concat([X_train, X_test])\n",
    "mean = X.mean()\n",
    "stdv = X.std()\n",
    "\n",
    "# X_train = (X_train - mean)/stdv\n",
    "# X_test = (X_test - mean)/stdv"
   ]
  },
  {
   "cell_type": "markdown",
   "metadata": {},
   "source": [
    "Train and fit SVM classifiers"
   ]
  },
  {
   "cell_type": "code",
   "execution_count": 16,
   "metadata": {},
   "outputs": [],
   "source": [
    "arr = []\n",
    "for n_components in range(90, 126, 5):\n",
    "    pca = PCA(n_components=n_components, svd_solver='full', whiten=True).fit(X_train)\n",
    "    eigenvectors = pca.components_.reshape(n_components, X_train.shape[1])\n",
    "\n",
    "    X_train_pca = pca.transform(X_train)\n",
    "    X_test_pca = pca.transform(X_test)\n",
    "\n",
    "    param_grid = {'C': [1, 1e1, 1e2, 1e3, 1e5, 1e6]}\n",
    "    clf = GridSearchCV(SVC(kernel='rbf', class_weight='balanced', gamma='scale'), param_grid, cv=5, iid=False)\n",
    "    clf = clf.fit(X_train_pca, Y_train)\n",
    "    \n",
    "    arr.append(clf.score(X_test_pca, Y_test))"
   ]
  },
  {
   "cell_type": "code",
   "execution_count": 18,
   "metadata": {},
   "outputs": [],
   "source": [
    "# TODO: PLOT GRAPH"
   ]
  },
  {
   "cell_type": "code",
   "execution_count": null,
   "metadata": {},
   "outputs": [],
   "source": [
    "    "
   ]
  }
 ],
 "metadata": {
  "kernelspec": {
   "display_name": "Python 3",
   "language": "python",
   "name": "python3"
  },
  "language_info": {
   "codemirror_mode": {
    "name": "ipython",
    "version": 3
   },
   "file_extension": ".py",
   "mimetype": "text/x-python",
   "name": "python",
   "nbconvert_exporter": "python",
   "pygments_lexer": "ipython3",
   "version": "3.6.6"
  }
 },
 "nbformat": 4,
 "nbformat_minor": 2
}
