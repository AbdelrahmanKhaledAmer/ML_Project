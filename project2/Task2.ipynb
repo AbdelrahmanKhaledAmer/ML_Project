{
 "cells": [
  {
   "cell_type": "markdown",
   "metadata": {},
   "source": [
    "# Machine Learning: Project 2\n",
    "## Task 2"
   ]
  },
  {
   "cell_type": "code",
   "execution_count": 14,
   "metadata": {},
   "outputs": [],
   "source": [
    "import pandas as pd\n",
    "import numpy as np\n",
    "from sklearn import svm\n",
    "from sklearn.decomposition import PCA"
   ]
  },
  {
   "cell_type": "code",
   "execution_count": 17,
   "metadata": {},
   "outputs": [],
   "source": [
    "X_train = pd.read_csv(\"./datasets/task2/14cancer_xtrain.csv\", header=None)\n",
    "Y_train = pd.read_csv(\"./datasets/task2/14cancer_ytrain.csv\", header=None)\n",
    "\n",
    "X_test = pd.read_csv(\"./datasets/task2/14cancer_xtest.csv\", header=None)\n",
    "Y_test = pd.read_csv(\"./datasets/task2/14cancer_ytest.csv\", header=None)\n",
    "\n",
    "X_train = X_train.transpose()\n",
    "Y_train = np.ravel(Y_train.transpose())\n",
    "\n",
    "X_test = X_test.transpose()\n",
    "Y_test = np.ravel(Y_test.transpose())"
   ]
  },
  {
   "cell_type": "code",
   "execution_count": 18,
   "metadata": {},
   "outputs": [],
   "source": [
    "arr = []\n",
    "for n_components in range(90, 126, 5):\n",
    "    pca = PCA(n_components=n_components, svd_solver='full', whiten=True).fit(X_train)\n",
    "    eigenvalues = pca.components_.reshape(n_components, X_train.shape[1])\n",
    "\n",
    "    X_train_pca = pca.transform(X_train)\n",
    "    X_test_pca = pca.transform(X_test)\n",
    "\n",
    "    svm_clf = svm.SVC(C=1000, gamma='scale', decision_function_shape='ovr')\n",
    "    svm_clf.fit(X_train_pca, Y_train)\n",
    "    \n",
    "    arr.append(svm_clf.score(X_test_pca, Y_test))"
   ]
  },
  {
   "cell_type": "code",
   "execution_count": 19,
   "metadata": {},
   "outputs": [
    {
     "data": {
      "text/plain": [
       "[0.5740740740740741,\n",
       " 0.5925925925925926,\n",
       " 0.5925925925925926,\n",
       " 0.5555555555555556,\n",
       " 0.5925925925925926,\n",
       " 0.5555555555555556,\n",
       " 0.5185185185185185,\n",
       " 0.5555555555555556]"
      ]
     },
     "execution_count": 19,
     "metadata": {},
     "output_type": "execute_result"
    }
   ],
   "source": [
    "arr"
   ]
  },
  {
   "cell_type": "code",
   "execution_count": null,
   "metadata": {},
   "outputs": [],
   "source": [
    "    "
   ]
  }
 ],
 "metadata": {
  "kernelspec": {
   "display_name": "Python 3",
   "language": "python",
   "name": "python3"
  },
  "language_info": {
   "codemirror_mode": {
    "name": "ipython",
    "version": 3
   },
   "file_extension": ".py",
   "mimetype": "text/x-python",
   "name": "python",
   "nbconvert_exporter": "python",
   "pygments_lexer": "ipython3",
   "version": "3.6.6"
  }
 },
 "nbformat": 4,
 "nbformat_minor": 2
}
