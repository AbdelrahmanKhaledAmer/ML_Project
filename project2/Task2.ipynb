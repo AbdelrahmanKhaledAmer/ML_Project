{
 "cells": [
  {
   "cell_type": "markdown",
   "metadata": {},
   "source": [
    "# Machine Learning: Project 2\n",
    "## Task 2"
   ]
  },
  {
   "cell_type": "code",
   "execution_count": 2,
   "metadata": {},
   "outputs": [],
   "source": [
    "import pandas as pd\n",
    "import numpy as np\n",
    "from sklearn import svm\n",
    "from sklearn.decomposition import PCA\n",
    "from sklearn.model_selection import GridSearchCV\n",
    "from sklearn.svm import SVC\n",
    "import matplotlib.pyplot as plt\n",
    "from sklearn.metrics import f1_score,homogeneity_score,completeness_score,v_measure_score"
   ]
  },
  {
   "cell_type": "code",
   "execution_count": 3,
   "metadata": {},
   "outputs": [],
   "source": [
    "X_train = pd.read_csv(\"./datasets/task2/14cancer_xtrain.csv\", header=None)\n",
    "Y_train = pd.read_csv(\"./datasets/task2/14cancer_ytrain.csv\", header=None)\n",
    "\n",
    "X_test = pd.read_csv(\"./datasets/task2/14cancer_xtest.csv\", header=None)\n",
    "Y_test = pd.read_csv(\"./datasets/task2/14cancer_ytest.csv\", header=None)\n",
    "\n",
    "X_train = X_train.transpose()\n",
    "Y_train = np.ravel(Y_train.transpose())\n",
    "\n",
    "X_test = X_test.transpose()\n",
    "Y_test = np.ravel(Y_test.transpose())"
   ]
  },
  {
   "cell_type": "markdown",
   "metadata": {},
   "source": [
    "### PCA usage\n",
    "- The best accuracy at PCA componenets 110 and 122 =0.703\n",
    "- According to the numbers and plot below n_components = 110 for the PCA provided the best combination between training and test scores. It can also be seen that the classifier tends to overfit the data at n_components ={115,125} with a perfect training score while taking a significant hit in the test accuracy.\n",
    "- For more dimensions the over-fitting is clearly visible - performance on the training set stays the same, while for the test set adding more information actually makes the classifier worse (In our case).\n",
    "- PCA is not aware of the labels in the training set, it just throws away some information which may be noise or useful sometimes.\n",
    "- in the sklearn implementation we use one versus rest (OVR) implementation for SVM.\n"
   ]
  },
  {
   "cell_type": "code",
   "execution_count": 6,
   "metadata": {},
   "outputs": [
    {
     "name": "stdout",
     "output_type": "stream",
     "text": [
      "training score: 90 : 0.9236111111111112\n",
      "test score: 0.5370370370370371\n",
      "\n",
      "training score: 95 : 0.9791666666666666\n",
      "test score: 0.6481481481481481\n",
      "\n",
      "training score: 100 : 0.9791666666666666\n",
      "test score: 0.6666666666666666\n",
      "\n",
      "training score: 105 : 0.9722222222222222\n",
      "test score: 0.6666666666666666\n",
      "\n",
      "training score: 110 : 0.9722222222222222\n",
      "test score: 0.7037037037037037\n",
      "\n",
      "training score: 115 : 1.0\n",
      "test score: 0.6296296296296297\n",
      "\n",
      "training score: 120 : 0.9861111111111112\n",
      "test score: 0.5740740740740741\n",
      "\n",
      "training score: 125 : 1.0\n",
      "test score: 0.5740740740740741\n",
      "\n"
     ]
    }
   ],
   "source": [
    "train_scores = []\n",
    "test_scores = []\n",
    "\n",
    "param_grid = {'C': [0.1,1e0, 1e1, 1e2, 1e3],'gamma': [0.0001, 0.0005, 0.001, 0.005, 0.01, 0.1,0.5,1]}\n",
    "clf = GridSearchCV(SVC(), param_grid, cv=5, iid=False)\n",
    "for n_components in range(90, 126, 5):\n",
    "    pca = PCA(n_components=n_components, svd_solver='full', whiten=True).fit(X_train)\n",
    "    eigenvalues = pca.components_.reshape(n_components, X_train.shape[1])\n",
    "\n",
    "    X_train_pca = pca.transform(X_train)\n",
    "    X_test_pca = pca.transform(X_test)\n",
    "    clf.fit(X_train_pca, Y_train)\n",
    "    print(\"training score:\", n_components, \":\", clf.score(X_train_pca,Y_train))\n",
    "    print(\"test score:\", clf.score(X_test_pca,Y_test))\n",
    "    test_scores.append(clf.score(X_test_pca, Y_test))\n",
    "    train_scores.append(clf.score(X_train_pca, Y_train))\n",
    "    print(\"\")"
   ]
  },
  {
   "cell_type": "code",
   "execution_count": 10,
   "metadata": {},
   "outputs": [
    {
     "data": {
      "image/png": "[encoded data removed]",
      "text/plain": [
       "<Figure size 432x288 with 1 Axes>"
      ]
     },
     "metadata": {
      "needs_background": "light"
     },
     "output_type": "display_data"
    }
   ],
   "source": [
    "fig, ax1 = plt.subplots()\n",
    "ax1.set_xlabel('Number of Principle components')\n",
    "\n",
    "ax1.set_ylabel('performance %')\n",
    "line1 = ax1.plot([ n_components for n_components in range(90, 126, 5)],train_scores,label = \"train scores\")\n",
    "line2 = ax1.plot([ n_components for n_components in range(90, 126, 5)],test_scores,label =\"test scores\")\n",
    "ax1.legend()\n",
    "plt.show()"
   ]
  },
  {
   "cell_type": "markdown",
   "metadata": {},
   "source": [
    "### (Bonus) heirarical clustering\n",
    "- The Homogenity score evaluate each cluster contains only members of a single class, the is shown score shown below.\n",
    "- The completeness score measures whether all members of a given class are assigned to the same cluster.\n",
    "- The scores obtained below shows a harmonic mean for completenees and homegenity with a score of 0.6.\n",
    "- We did the classification on the whole data altogether and the train and test data two (results are  shown below).\n",
    "- Also, PCA does not improve the results."
   ]
  },
  {
   "cell_type": "code",
   "execution_count": 11,
   "metadata": {},
   "outputs": [],
   "source": [
    "from sklearn.cluster import AgglomerativeClustering\n",
    "\n",
    "def evaluate(Y_test,pred_test):\n",
    "    print(\"Homogenity score: \",homogeneity_score(Y_test, pred_test))\n",
    "    print(\"completeness score: \",completeness_score(Y_test, pred_test))\n",
    "    print(\"harmonic mean score: \",v_measure_score(Y_test, pred_test))\n",
    "cluster = AgglomerativeClustering(n_clusters=14, affinity='euclidean', linkage='ward')  "
   ]
  },
  {
   "cell_type": "markdown",
   "metadata": {},
   "source": [
    "###  Classification on the whole dataset"
   ]
  },
  {
   "cell_type": "code",
   "execution_count": 12,
   "metadata": {},
   "outputs": [
    {
     "name": "stdout",
     "output_type": "stream",
     "text": [
      "(198, 16063) (198,)\n"
     ]
    }
   ],
   "source": [
    "All_data_X = np.concatenate((X_train, X_test), axis=0)\n",
    "All_data_Y = np.concatenate((Y_train, Y_test), axis=0)\n",
    "\n",
    "pred_all = cluster.fit_predict(All_data_X)\n",
    "print(All_data_X.shape,All_data_Y.shape)"
   ]
  },
  {
   "cell_type": "code",
   "execution_count": 13,
   "metadata": {},
   "outputs": [
    {
     "name": "stdout",
     "output_type": "stream",
     "text": [
      "Homogenity score:  0.4359811977380588\n",
      "completeness score:  0.5055857050734917\n",
      "harmonic mean score:  0.4682107253323854\n"
     ]
    }
   ],
   "source": [
    "evaluate(All_data_Y,pred_all)"
   ]
  },
  {
   "cell_type": "markdown",
   "metadata": {},
   "source": [
    "### classification using training and test data (just for fun)"
   ]
  },
  {
   "cell_type": "code",
   "execution_count": 14,
   "metadata": {},
   "outputs": [
    {
     "name": "stdout",
     "output_type": "stream",
     "text": [
      "Train data\n",
      "Homogenity score:  0.5239153465174028\n",
      "completeness score:  0.573926300798684\n",
      "harmonic mean score:  0.5477817269794655\n",
      "Test data\n",
      "Homogenity score:  0.5574163867446181\n",
      "completeness score:  0.6486439690180107\n",
      "harmonic mean score:  0.5995799062064006\n"
     ]
    }
   ],
   "source": [
    "pred_train = cluster.fit_predict(X_train)\n",
    "pred_test = cluster.fit_predict(X_test)\n",
    "print(\"Train data\")\n",
    "evaluate(Y_train,pred_train)\n",
    "print(\"Test data\")\n",
    "evaluate(Y_test,pred_test)"
   ]
  },
  {
   "cell_type": "markdown",
   "metadata": {},
   "source": [
    "### PCA (for fun too)"
   ]
  },
  {
   "cell_type": "code",
   "execution_count": 15,
   "metadata": {},
   "outputs": [],
   "source": [
    "#using PCA does not improve the results\n",
    "n_components = 110\n",
    "pca = PCA(n_components=n_components, svd_solver='full', whiten=True).fit(X_train)\n",
    "All_data_X = pca.transform(All_data_X)"
   ]
  },
  {
   "cell_type": "code",
   "execution_count": null,
   "metadata": {},
   "outputs": [],
   "source": []
  }
 ],
 "metadata": {
  "kernelspec": {
   "display_name": "Python 3",
   "language": "python",
   "name": "python3"
  },
  "language_info": {
   "codemirror_mode": {
    "name": "ipython",
    "version": 3
   },
   "file_extension": ".py",
   "mimetype": "text/x-python",
   "name": "python",
   "nbconvert_exporter": "python",
   "pygments_lexer": "ipython3",
   "version": "3.6.6"
  }
 },
 "nbformat": 4,
 "nbformat_minor": 2
}
