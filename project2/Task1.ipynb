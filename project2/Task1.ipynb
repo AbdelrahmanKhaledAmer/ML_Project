{
 "cells": [
  {
   "cell_type": "markdown",
   "metadata": {},
   "source": [
    "# Machine Learning: Project 2\n",
    "## Task 1"
   ]
  },
  {
   "cell_type": "code",
   "execution_count": 47,
   "metadata": {},
   "outputs": [],
   "source": [
    "import matplotlib.pyplot as plt\n",
    "import numpy as np\n",
    "\n",
    "from sklearn.model_selection import train_test_split\n",
    "from sklearn.model_selection import GridSearchCV\n",
    "from sklearn.datasets import fetch_lfw_people\n",
    "from sklearn.metrics import classification_report\n",
    "from sklearn.metrics import confusion_matrix\n",
    "from sklearn.decomposition import PCA\n",
    "from sklearn.svm import SVC"
   ]
  },
  {
   "cell_type": "markdown",
   "metadata": {},
   "source": [
    "### Loading, Normalizing and "
   ]
  },
  {
   "cell_type": "code",
   "execution_count": 11,
   "metadata": {},
   "outputs": [],
   "source": [
    "lfw_people = fetch_lfw_people(\n",
    "    data_home=\"/media/abdelrahman/CE92DD4992DD3725/GUC/Semester 9 Winter 2018/CSEN1067. Machine Learning Algorithms/Project/Project 1/code/project2/datasets/task1/lfw_funneled\",\n",
    "    min_faces_per_person=10, resize=0.4,download_if_missing= False)\n",
    "\n",
    "# introspect the images arrays to find the shapes (for plotting)\n",
    "n_samples, h, w = lfw_people.images.shape\n",
    "\n",
    "# for machine learning we use the 2 data directly (as relative pixel positions info is ignored by this model)\n",
    "X = lfw_people.data\n",
    "n_features = X.shape[1]\n",
    "\n",
    "# the label to predict is the id of the person\n",
    "y = lfw_people.target\n",
    "target_names = lfw_people.target_names\n",
    "n_classes = target_names.shape[0]\n",
    "\n",
    "# print(\"Total dataset size:\",X.shape)\n",
    "# print(\"n_samples: %d\" % n_samples)\n",
    "# print(\"n_features: %d\" % n_features)\n",
    "# print(\"n_classes: %d\" % n_classes)\n",
    "\n",
    "# Standardize the data set\n",
    "X = (X - X.mean()) / X.std()\n",
    "\n",
    "# split into a training and testing set\n",
    "X_train, X_test, y_train, y_test = train_test_split(X, y, test_size=0.25, random_state=42)"
   ]
  },
  {
   "cell_type": "markdown",
   "metadata": {},
   "source": [
    "### C values in SVM model\n",
    "In the code cell below, for the four C values (1, 10, 100, 1000) in our SVM Classifier:\n",
    "- 100 got the best results because when C is small it tends to ignore the errors thus resulting in bad validation and test scores, on the other hand, when C grows large it's more likely to adapt to the training data (with a tendancy to not overlook errors which may lead to overfitting) such that it misclassifies the training data. So, the value 100 did best as it was not too large or too small.\n",
    "- In the tutorial, the best value for C was 1000. It is also possible that this value of C was best because the data hadn't been normalized yet"
   ]
  },
  {
   "cell_type": "code",
   "execution_count": 12,
   "metadata": {
    "scrolled": true
   },
   "outputs": [
    {
     "name": "stdout",
     "output_type": "stream",
     "text": [
      "Fitting the classifier to the training set\n",
      "C-value of best estimator found by grid search:\n",
      "100.0\n"
     ]
    }
   ],
   "source": [
    "# Train a SVM classification model\n",
    "# TODO CHECK FINAL C FOR FINAL DATASET\n",
    "print(\"Fitting the classifier to the training set\")\n",
    "param_grid = {'C': [1, 1e1, 1e2, 1e3],\n",
    "              'gamma': [0.0001, 0.0005, 0.001, 0.005, 0.01, 0.1]}\n",
    "clf = GridSearchCV(SVC(kernel='rbf', class_weight='balanced'), param_grid, cv=5, iid=False)\n",
    "clf = clf.fit(X_train, y_train)\n",
    "print(\"C-value of best estimator found by grid search:\", clf.best_estimator_.C)"
   ]
  },
  {
   "cell_type": "markdown",
   "metadata": {},
   "source": [
    "### PCA usage\n",
    "Using PCA is supposed to accelerate the learning process and it did. We used 3 different values for PCA (50, 150 and 190) and found the best corresponding C-value. The results are plotted below."
   ]
  },
  {
   "cell_type": "code",
   "execution_count": 37,
   "metadata": {},
   "outputs": [
    {
     "name": "stdout",
     "output_type": "stream",
     "text": [
      "Extracting the top 50 eigenfaces from 207 faces\n",
      "Projecting the input data on the eigenfaces orthonormal basis\n",
      "Fitting the classifier to the training set\n",
      "C-value of best estimator found by grid search: 1\n",
      "\n",
      "Extracting the top 150 eigenfaces from 207 faces\n",
      "Projecting the input data on the eigenfaces orthonormal basis\n",
      "Fitting the classifier to the training set\n",
      "C-value of best estimator found by grid search: 1000.0\n",
      "\n",
      "Extracting the top 190 eigenfaces from 207 faces\n",
      "Projecting the input data on the eigenfaces orthonormal basis\n",
      "Fitting the classifier to the training set\n",
      "C-value of best estimator found by grid search: 100.0\n",
      "\n",
      "Extracting the top 300 eigenfaces from 207 faces\n",
      "300 is too large of a value! Max value allowed is 207\n"
     ]
    }
   ],
   "source": [
    "from sklearn.metrics import accuracy_score\n",
    "from sklearn.metrics import f1_score\n",
    "# Compute a PCA (eigenfaces) on the face dataset (treated as unlabeled dataset): unsupervised feature extraction / dimensionality reduction\n",
    "used_n_components = []\n",
    "best_cs = []\n",
    "performance_acc = []\n",
    "n_components_arr = [50, 150, 190, 300, 1000]\n",
    "for n_components in n_components_arr:\n",
    "    print(\"Extracting the top %d eigenfaces from %d faces\" % (n_components, X_train.shape[0]))\n",
    "    try:\n",
    "        pca = PCA(n_components=n_components, svd_solver='randomized', whiten=True).fit(X_train)\n",
    "        used_n_components.append(n_components)\n",
    "    except ValueError:\n",
    "        print(n_components, \"is too large of a value! Max value allowed is\", min(X_train.shape[0], n_features))\n",
    "        break\n",
    "        \n",
    "    eigenfaces = pca.components_.reshape((n_components, h, w))\n",
    "\n",
    "    print(\"Projecting the input data on the eigenfaces orthonormal basis\")\n",
    "    X_train_pca = pca.transform(X_train)\n",
    "    X_test_pca = pca.transform(X_test)\n",
    "\n",
    "    print(\"Fitting the classifier to the training set\")\n",
    "    param_grid = {'C': [1, 1e1, 1e2, 1e3], 'gamma': [0.0001, 0.0005, 0.001, 0.005, 0.01, 0.1]}\n",
    "    clf = GridSearchCV(SVC(kernel='rbf', class_weight='balanced'), param_grid, cv=5, iid=False)\n",
    "    clf = clf.fit(X_train_pca, y_train)\n",
    "    print(\"C-value of best estimator found by grid search:\", clf.best_estimator_.C)\n",
    "    best_cs.append(clf.best_estimator_.C)\n",
    "    y_pred = clf.predict(X_test_pca)\n",
    "    performance_acc.append(accuracy_score(y_test, y_pred) * 100)\n",
    "    print(\"\")"
   ]
  },
  {
   "cell_type": "markdown",
   "metadata": {},
   "source": [
    "### Results\n",
    "TODO: WRITE STUFF!"
   ]
  },
  {
   "cell_type": "code",
   "execution_count": 68,
   "metadata": {},
   "outputs": [
    {
     "data": {
      "image/png": "[encoded data removed]",
      "text/plain": [
       "<Figure size 432x288 with 2 Axes>"
      ]
     },
     "metadata": {
      "needs_background": "light"
     },
     "output_type": "display_data"
    }
   ],
   "source": [
    "# TODO: TRY OTHER GRAPHS (BAR GRAPH MIGHT BE A GOOD CHOICE)\n",
    "\n",
    "fig, ax1 = plt.subplots()\n",
    "plt.xticks(np.arange(len(used_n_components)), used_n_components)\n",
    "\n",
    "width = 0.25\n",
    "\n",
    "ax1.set_xlabel('Number of Principle components')\n",
    "\n",
    "color = 'tab:red'\n",
    "ax1.set_ylabel('performance %', color=color)\n",
    "# ax1.plot(used_n_components, performance_acc, color=color)\n",
    "ax1.bar(np.arange(len(performance_acc)) - width/2, performance_acc, color=color, width=width)\n",
    "ax1.tick_params(axis='y', labelcolor=color)\n",
    "ax1.set_ylim(bottom=np.min(performance_acc) - 2, top=np.min(performance_acc) + 2)\n",
    "\n",
    "ax2 = ax1.twinx()\n",
    "\n",
    "color = 'tab:blue'\n",
    "ax2.set_ylabel('Optimal C-Value', color=color)\n",
    "# ax2.plot(used_n_components, best_cs, color=color)\n",
    "ax2.bar(np.arange(len(best_cs)) + width/2, best_cs, color=color, width=width)\n",
    "ax2.tick_params(axis='y', labelcolor=color)\n",
    "ax2.set_yscale(\"log\")\n",
    "\n",
    "plt.show()"
   ]
  },
  {
   "cell_type": "code",
   "execution_count": 18,
   "metadata": {},
   "outputs": [
    {
     "name": "stdout",
     "output_type": "stream",
     "text": [
      "Predicting people's names on the test set\n",
      "                         precision    recall  f1-score   support\n",
      "\n",
      "         George HW Bush       0.00      0.00      0.00         1\n",
      "      Gerhard Schroeder       0.73      0.97      0.83        31\n",
      "Gloria Macapagal Arroyo       0.91      0.91      0.91        11\n",
      "           Gordon Brown       1.00      1.00      1.00         2\n",
      "            Igor Ivanov       0.25      0.11      0.15         9\n",
      "            John Howard       0.00      0.00      0.00         6\n",
      "     Michael Schumacher       0.25      1.00      0.40         1\n",
      "       Pervez Musharraf       1.00      0.33      0.50         3\n",
      "            Tiger Woods       1.00      0.33      0.50         6\n",
      "\n",
      "              micro avg       0.67      0.67      0.67        70\n",
      "              macro avg       0.57      0.52      0.48        70\n",
      "           weighted avg       0.66      0.67      0.63        70\n",
      "\n",
      "[[ 0  1  0  0  0  0  0  0  0]\n",
      " [ 0 30  0  0  0  0  1  0  0]\n",
      " [ 0  0 10  0  0  0  1  0  0]\n",
      " [ 0  0  0  2  0  0  0  0  0]\n",
      " [ 0  6  0  0  1  2  0  0  0]\n",
      " [ 0  3  0  0  3  0  0  0  0]\n",
      " [ 0  0  0  0  0  0  1  0  0]\n",
      " [ 0  0  0  0  0  2  0  1  0]\n",
      " [ 0  1  1  0  0  1  1  0  2]]\n"
     ]
    },
    {
     "name": "stderr",
     "output_type": "stream",
     "text": [
      "/usr/local/lib/python3.6/dist-packages/sklearn/metrics/classification.py:1143: UndefinedMetricWarning: Precision and F-score are ill-defined and being set to 0.0 in labels with no predicted samples.\n",
      "  'precision', 'predicted', average, warn_for)\n"
     ]
    }
   ],
   "source": [
    "# Quantitative evaluation of the model quality on the test set\n",
    "\n",
    "print(\"Predicting people's names on the test set\")\n",
    "y_pred = clf.predict(X_test_pca)\n",
    "\n",
    "# print(classification_report.__doc__)\n",
    "\n",
    "print(classification_report(y_test, y_pred, labels=range(n_classes), target_names=target_names))\n",
    "print(confusion_matrix(y_test, y_pred, labels=range(n_classes)))"
   ]
  },
  {
   "cell_type": "code",
   "execution_count": null,
   "metadata": {},
   "outputs": [],
   "source": [
    "# Qualitative evaluation of the predictions using matplotlib\n",
    "\n",
    "def plot_gallery(images, titles, h, w, n_row=3, n_col=4):\n",
    "    \"\"\"Helper function to plot a gallery of portraits\"\"\"\n",
    "    plt.figure(figsize=(1.8 * n_col, 2.4 * n_row))\n",
    "    plt.subplots_adjust(bottom=0, left=.01, right=.99, top=.90, hspace=.35)\n",
    "    for i in range(n_row * n_col):\n",
    "        plt.subplot(n_row, n_col, i + 1)\n",
    "        plt.imshow(images[i].reshape((h, w)), cmap=plt.cm.gray)\n",
    "        plt.title(titles[i], size=12)\n",
    "        plt.xticks(())\n",
    "        plt.yticks(())"
   ]
  },
  {
   "cell_type": "code",
   "execution_count": null,
   "metadata": {},
   "outputs": [],
   "source": [
    "# plot the result of the prediction on a portion of the test set\n",
    "\n",
    "def title(y_pred, y_test, target_names, i):\n",
    "    pred_name = target_names[y_pred[i]].rsplit(' ', 1)[-1]\n",
    "    true_name = target_names[y_test[i]].rsplit(' ', 1)[-1]\n",
    "    return 'predicted: %s\\ntrue:      %s' % (pred_name, true_name)\n",
    "\n",
    "prediction_titles = [title(y_pred, y_test, target_names, i)\n",
    "                     for i in range(y_pred.shape[0])]\n",
    "\n",
    "plot_gallery(X_test, prediction_titles, h, w)\n",
    "\n",
    "# plot the gallery of the most significative eigenfaces\n",
    "\n",
    "eigenface_titles = [\"eigenface %d\" % i for i in range(eigenfaces.shape[0])]\n",
    "plot_gallery(eigenfaces, eigenface_titles, h, w)\n",
    "\n",
    "plt.show()"
   ]
  },
  {
   "cell_type": "code",
   "execution_count": null,
   "metadata": {},
   "outputs": [],
   "source": []
  }
 ],
 "metadata": {
  "kernelspec": {
   "display_name": "Python 3",
   "language": "python",
   "name": "python3"
  },
  "language_info": {
   "codemirror_mode": {
    "name": "ipython",
    "version": 3
   },
   "file_extension": ".py",
   "mimetype": "text/x-python",
   "name": "python",
   "nbconvert_exporter": "python",
   "pygments_lexer": "ipython3",
   "version": "3.6.6"
  }
 },
 "nbformat": 4,
 "nbformat_minor": 2
}
